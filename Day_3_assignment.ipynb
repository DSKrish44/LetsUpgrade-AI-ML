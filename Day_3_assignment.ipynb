{
  "nbformat": 4,
  "nbformat_minor": 0,
  "metadata": {
    "colab": {
      "name": "Day 3 assignment",
      "provenance": [],
      "collapsed_sections": []
    },
    "kernelspec": {
      "name": "python3",
      "display_name": "Python 3"
    }
  },
  "cells": [
    {
      "cell_type": "code",
      "metadata": {
        "id": "o4mHJms1RiUP",
        "colab_type": "code",
        "colab": {
          "base_uri": "https://localhost:8080/",
          "height": 34
        },
        "outputId": "1de3d78c-8332-4bec-cb3e-ed5bab00d5c2"
      },
      "source": [
        "a=2+5j\n",
        "b=3+2j\n",
        "c=a+b\n",
        "print(c)"
      ],
      "execution_count": null,
      "outputs": [
        {
          "output_type": "stream",
          "text": [
            "(5+7j)\n"
          ],
          "name": "stdout"
        }
      ]
    },
    {
      "cell_type": "code",
      "metadata": {
        "id": "CtlVmrhiR93I",
        "colab_type": "code",
        "colab": {
          "base_uri": "https://localhost:8080/",
          "height": 34
        },
        "outputId": "9802225a-e82a-480a-e622-dd808f644a18"
      },
      "source": [
        "a=2+5j\n",
        "b=3+2j\n",
        "c=a-b\n",
        "print(c)"
      ],
      "execution_count": null,
      "outputs": [
        {
          "output_type": "stream",
          "text": [
            "(-1+3j)\n"
          ],
          "name": "stdout"
        }
      ]
    },
    {
      "cell_type": "code",
      "metadata": {
        "id": "DAyhO4sJSF5J",
        "colab_type": "code",
        "colab": {
          "base_uri": "https://localhost:8080/",
          "height": 34
        },
        "outputId": "efc55bc6-7dc9-4f43-e262-b7a2212b4c48"
      },
      "source": [
        "# Question 2:\n",
        "x=16\n",
        "fourthroot=x**0.25\n",
        "print(fourthroot)\n"
      ],
      "execution_count": null,
      "outputs": [
        {
          "output_type": "stream",
          "text": [
            "2.0\n"
          ],
          "name": "stdout"
        }
      ]
    },
    {
      "cell_type": "code",
      "metadata": {
        "id": "nUnn17cVTnxa",
        "colab_type": "code",
        "colab": {
          "base_uri": "https://localhost:8080/",
          "height": 34
        },
        "outputId": "5b496592-5372-4389-93c8-16d854e7a362"
      },
      "source": [
        "# question 3\n",
        "a=1\n",
        "b=2\n",
        "temp=a\n",
        "a=b\n",
        "b=temp\n",
        "print(a,b)"
      ],
      "execution_count": null,
      "outputs": [
        {
          "output_type": "stream",
          "text": [
            "2 1\n"
          ],
          "name": "stdout"
        }
      ]
    },
    {
      "cell_type": "code",
      "metadata": {
        "id": "7tf7F0NuUI7B",
        "colab_type": "code",
        "colab": {
          "base_uri": "https://localhost:8080/",
          "height": 51
        },
        "outputId": "f20094a7-879b-43ef-cf27-456ed8550310"
      },
      "source": [
        "#Question 4\n",
        "a=1\n",
        "b=2\n",
        "a,b=b,a\n",
        "print(a)\n",
        "print(b)"
      ],
      "execution_count": null,
      "outputs": [
        {
          "output_type": "stream",
          "text": [
            "2\n",
            "1\n"
          ],
          "name": "stdout"
        }
      ]
    },
    {
      "cell_type": "code",
      "metadata": {
        "id": "MQe4ov3qFjWV",
        "colab_type": "code",
        "colab": {
          "base_uri": "https://localhost:8080/",
          "height": 85
        },
        "outputId": "ab3b1234-6773-4490-9bd0-730531cce934"
      },
      "source": [
        "# Question 6\n",
        "a=1\n",
        "b=2.3\n",
        "c=\"mine\"\n",
        "d=2+3j\n",
        "print(type(a))\n",
        "print(type(b))\n",
        "print(type(c))\n",
        "print(type(d))"
      ],
      "execution_count": 2,
      "outputs": [
        {
          "output_type": "stream",
          "text": [
            "<class 'int'>\n",
            "<class 'float'>\n",
            "<class 'str'>\n",
            "<class 'complex'>\n"
          ],
          "name": "stdout"
        }
      ]
    },
    {
      "cell_type": "code",
      "metadata": {
        "id": "z1K2EzP3UeGc",
        "colab_type": "code",
        "colab": {
          "base_uri": "https://localhost:8080/",
          "height": 68
        },
        "outputId": "4d0ca922-9779-4262-a15e-96fe0870a01a"
      },
      "source": [
        "# Question 6\n",
        "a=1\n",
        "b=2.3\n",
        "c=\"mine\"\n",
        "print(type(a))\n",
        "print(type(b))\n",
        "print(type(c))"
      ],
      "execution_count": null,
      "outputs": [
        {
          "output_type": "stream",
          "text": [
            "<class 'int'>\n",
            "<class 'float'>\n",
            "<class 'str'>\n"
          ],
          "name": "stdout"
        }
      ]
    },
    {
      "cell_type": "code",
      "metadata": {
        "id": "JBUfoJ_ACUl-",
        "colab_type": "code",
        "colab": {
          "base_uri": "https://localhost:8080/",
          "height": 51
        },
        "outputId": "1613b62f-e182-4cf4-938b-e2687156a19d"
      },
      "source": [
        "# Question 5:\n",
        "y=10\n",
        "K=(y-32)*(5/9)*273.15\n",
        "C=(y-32)*5/9\n",
        "print(y,'fahrein heit is :',K,'Kelvin')\n",
        "print(y,'Fahrein heit is :',C,'celsius')"
      ],
      "execution_count": 1,
      "outputs": [
        {
          "output_type": "stream",
          "text": [
            "10 fahrein heit is : -3338.5 Kelvin\n",
            "10 Fahrein heit is : -12.222222222222221 celsius\n"
          ],
          "name": "stdout"
        }
      ]
    },
    {
      "cell_type": "markdown",
      "metadata": {
        "id": "3nQGLVaBEti1",
        "colab_type": "text"
      },
      "source": [
        "# Question 7:\n",
        "To create a Github profile first login into your profile and click on new repository and name it as LETSUPGRADE AI/ML and description assignment and select public"
      ]
    },
    {
      "cell_type": "code",
      "metadata": {
        "id": "xbymC3a5F3fj",
        "colab_type": "code",
        "colab": {}
      },
      "source": [
        ""
      ],
      "execution_count": null,
      "outputs": []
    },
    {
      "cell_type": "code",
      "metadata": {
        "id": "r0noiSbeF4VL",
        "colab_type": "code",
        "colab": {}
      },
      "source": [
        ""
      ],
      "execution_count": null,
      "outputs": []
    },
    {
      "cell_type": "code",
      "metadata": {
        "id": "HAqCfp0NEfBn",
        "colab_type": "code",
        "colab": {}
      },
      "source": [
        ""
      ],
      "execution_count": null,
      "outputs": []
    },
    {
      "cell_type": "markdown",
      "metadata": {
        "id": "LqPrjsjsEohv",
        "colab_type": "text"
      },
      "source": [
        "`"
      ]
    }
  ]
}