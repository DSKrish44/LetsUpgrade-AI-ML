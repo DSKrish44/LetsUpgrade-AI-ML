{
  "nbformat": 4,
  "nbformat_minor": 0,
  "metadata": {
    "colab": {
      "name": "Assignment day 6",
      "provenance": [],
      "collapsed_sections": []
    },
    "kernelspec": {
      "name": "python3",
      "display_name": "Python 3"
    }
  },
  "cells": [
    {
      "cell_type": "code",
      "metadata": {
        "id": "I6I3tWqyhtLq",
        "colab_type": "code",
        "colab": {
          "base_uri": "https://localhost:8080/",
          "height": 51
        },
        "outputId": "75cdb915-8cb8-4d00-9f2f-1924a8ab6ddd"
      },
      "source": [
        "#Question 1:\n",
        "x=input('enter the mail id:')\n",
        "y=x.index(\"@\")\n",
        "print(x[y+1:len(x)-4],end='')"
      ],
      "execution_count": null,
      "outputs": [
        {
          "output_type": "stream",
          "text": [
            "enter the mail id:sai@ibm.com\n",
            "ibm"
          ],
          "name": "stdout"
        }
      ]
    },
    {
      "cell_type": "code",
      "metadata": {
        "id": "l2gIqhQxFHRg",
        "colab_type": "code",
        "colab": {
          "base_uri": "https://localhost:8080/",
          "height": 51
        },
        "outputId": "c3e7c843-9aef-4be2-c59a-abe74ef76f18"
      },
      "source": [
        "# Question 2:\n",
        "items = input(\"Input comma separated sequence of words \")\n",
        "words = [word for word in items.split(\",\")]\n",
        "print(\",\".join(sorted(list(set(words)))))"
      ],
      "execution_count": 4,
      "outputs": [
        {
          "output_type": "stream",
          "text": [
            "Input comma separated sequence of words dog,cat,zebra,elephant\n",
            "cat,dog,elephant,zebra\n"
          ],
          "name": "stdout"
        }
      ]
    },
    {
      "cell_type": "code",
      "metadata": {
        "id": "opR6qCaLX2Kn",
        "colab_type": "code",
        "colab": {
          "base_uri": "https://localhost:8080/",
          "height": 34
        },
        "outputId": "ba49e48b-a4d3-42a9-b961-fad97eca074d"
      },
      "source": [
        "#Question 3:\n",
        "x={'apple','banana','cherry'}\n",
        "y={'google','microsoft','apple'}\n",
        "z=x.difference(y)\n",
        "print(z)"
      ],
      "execution_count": null,
      "outputs": [
        {
          "output_type": "stream",
          "text": [
            "{'cherry', 'banana'}\n"
          ],
          "name": "stdout"
        }
      ]
    },
    {
      "cell_type": "code",
      "metadata": {
        "id": "oGarXwyGhApN",
        "colab_type": "code",
        "colab": {
          "base_uri": "https://localhost:8080/",
          "height": 34
        },
        "outputId": "6b7447d4-bd9e-4819-825e-f30101f1a0a2"
      },
      "source": [
        "x={'apple','banana','cherry'}\n",
        "x.discard('banana')\n",
        "x"
      ],
      "execution_count": null,
      "outputs": [
        {
          "output_type": "execute_result",
          "data": {
            "text/plain": [
              "{'apple', 'cherry'}"
            ]
          },
          "metadata": {
            "tags": []
          },
          "execution_count": 6
        }
      ]
    },
    {
      "cell_type": "code",
      "metadata": {
        "id": "MlCOgXcDhJ1b",
        "colab_type": "code",
        "colab": {
          "base_uri": "https://localhost:8080/",
          "height": 34
        },
        "outputId": "d4eaff7d-35f6-431d-c939-286f50025e1f"
      },
      "source": [
        "x={'apple','banana','cherry'}\n",
        "y={'google','microsoft','apple'}\n",
        "z=x.union(y)\n",
        "print(z)"
      ],
      "execution_count": null,
      "outputs": [
        {
          "output_type": "stream",
          "text": [
            "{'google', 'cherry', 'microsoft', 'apple', 'banana'}\n"
          ],
          "name": "stdout"
        }
      ]
    },
    {
      "cell_type": "code",
      "metadata": {
        "id": "-QSLVvZhhWQn",
        "colab_type": "code",
        "colab": {
          "base_uri": "https://localhost:8080/",
          "height": 34
        },
        "outputId": "86edf63d-8e2e-4a67-e6f2-0705307b522d"
      },
      "source": [
        "x={'apple','banana','cherry'}\n",
        "y={'google','microsoft','apple'}\n",
        "z=x.intersection(y)\n",
        "print(z)"
      ],
      "execution_count": null,
      "outputs": [
        {
          "output_type": "stream",
          "text": [
            "{'apple'}\n"
          ],
          "name": "stdout"
        }
      ]
    },
    {
      "cell_type": "code",
      "metadata": {
        "id": "zzuIVeMLhdp6",
        "colab_type": "code",
        "colab": {
          "base_uri": "https://localhost:8080/",
          "height": 34
        },
        "outputId": "74546fe7-917c-43a6-e7ab-7d83bb539d13"
      },
      "source": [
        "x={'apple','banana','cherry'}\n",
        "y={'google','microsoft','apple'}\n",
        "z=x.isdisjoint(y)\n",
        "print(z)"
      ],
      "execution_count": null,
      "outputs": [
        {
          "output_type": "stream",
          "text": [
            "False\n"
          ],
          "name": "stdout"
        }
      ]
    },
    {
      "cell_type": "code",
      "metadata": {
        "id": "1UjXn_u5hmpY",
        "colab_type": "code",
        "colab": {
          "base_uri": "https://localhost:8080/",
          "height": 34
        },
        "outputId": "0aa4f94f-f73c-4707-a207-63f9bf8f8ab9"
      },
      "source": [
        "x={'apple','banana','cherry'}\n",
        "y={'google','microsoft','apple'}\n",
        "z=x.issubset(y)\n",
        "print(z)"
      ],
      "execution_count": null,
      "outputs": [
        {
          "output_type": "stream",
          "text": [
            "False\n"
          ],
          "name": "stdout"
        }
      ]
    },
    {
      "cell_type": "code",
      "metadata": {
        "id": "0cf6W1eIhpop",
        "colab_type": "code",
        "colab": {
          "base_uri": "https://localhost:8080/",
          "height": 34
        },
        "outputId": "8495f139-b16c-478c-cb0b-ae4cd5033c92"
      },
      "source": [
        "x={'apple','banana','cherry'}\n",
        "y={'google','microsoft','apple'}\n",
        "z=x.issuperset(y)\n",
        "print(z)"
      ],
      "execution_count": null,
      "outputs": [
        {
          "output_type": "stream",
          "text": [
            "False\n"
          ],
          "name": "stdout"
        }
      ]
    },
    {
      "cell_type": "code",
      "metadata": {
        "id": "FwkxgyKshspf",
        "colab_type": "code",
        "colab": {
          "base_uri": "https://localhost:8080/",
          "height": 34
        },
        "outputId": "8b4af9cf-0340-41e2-dac4-3e82b3c04d0f"
      },
      "source": [
        "x={'apple','banana','cherry'}\n",
        "y={'google','microsoft','apple'}\n",
        "z=x.symmetric_difference(y)\n",
        "print(z)"
      ],
      "execution_count": null,
      "outputs": [
        {
          "output_type": "stream",
          "text": [
            "{'cherry', 'microsoft', 'banana', 'google'}\n"
          ],
          "name": "stdout"
        }
      ]
    },
    {
      "cell_type": "code",
      "metadata": {
        "id": "7meg4ngzh2Br",
        "colab_type": "code",
        "colab": {
          "base_uri": "https://localhost:8080/",
          "height": 34
        },
        "outputId": "41af2b10-5637-46d3-f3cc-5eda9e34fe50"
      },
      "source": [
        "x={'apple','banana','cherry'}\n",
        "y={'google','microsoft','apple'}\n",
        "x.update(y)\n",
        "x"
      ],
      "execution_count": null,
      "outputs": [
        {
          "output_type": "execute_result",
          "data": {
            "text/plain": [
              "{'apple', 'banana', 'cherry', 'google', 'microsoft'}"
            ]
          },
          "metadata": {
            "tags": []
          },
          "execution_count": 19
        }
      ]
    },
    {
      "cell_type": "code",
      "metadata": {
        "id": "YZVNrO5aiK5m",
        "colab_type": "code",
        "colab": {
          "base_uri": "https://localhost:8080/",
          "height": 34
        },
        "outputId": "e60b0977-33e4-436d-9191-007c4bb7ed2b"
      },
      "source": [
        "x={'apple','banana','cherry'}\n",
        "x.pop()\n",
        "x"
      ],
      "execution_count": null,
      "outputs": [
        {
          "output_type": "execute_result",
          "data": {
            "text/plain": [
              "{'banana', 'cherry'}"
            ]
          },
          "metadata": {
            "tags": []
          },
          "execution_count": 20
        }
      ]
    },
    {
      "cell_type": "code",
      "metadata": {
        "id": "fvDXw76lAk2G",
        "colab_type": "code",
        "colab": {
          "base_uri": "https://localhost:8080/",
          "height": 34
        },
        "outputId": "54467842-9c76-4d2e-bea2-f3d7300bd52b"
      },
      "source": [
        "#question 4:\n",
        "def lv(lst):\n",
        "  return[i for x,y in zip(lst,lst[1:])\n",
        "    for i in range(x+1,y) if y-x > 1]\n",
        "lst=[1,2,4,6,7,8,9,11]\n",
        "print(lv(lst))"
      ],
      "execution_count": 3,
      "outputs": [
        {
          "output_type": "stream",
          "text": [
            "[3, 5, 10]\n"
          ],
          "name": "stdout"
        }
      ]
    },
    {
      "cell_type": "code",
      "metadata": {
        "id": "DhQBTOdTihs5",
        "colab_type": "code",
        "colab": {
          "base_uri": "https://localhost:8080/",
          "height": 51
        },
        "outputId": "18ba2e10-71c3-4d03-fa5a-b2670eb6064d"
      },
      "source": [
        "#Question 5:\n",
        "x=[10,20,10,20,30,40,30,50]\n",
        "y=[]\n",
        "for i in x:\n",
        "  if i not in y:\n",
        "    y.append(i)\n",
        "print('values i original list are :',x)\n",
        "print('values after removing duplicate are :',y)"
      ],
      "execution_count": 2,
      "outputs": [
        {
          "output_type": "stream",
          "text": [
            "values i original list are : [10, 20, 10, 20, 30, 40, 30, 50]\n",
            "values after removing duplicate are : [10, 20, 30, 40, 50]\n"
          ],
          "name": "stdout"
        }
      ]
    },
    {
      "cell_type": "code",
      "metadata": {
        "id": "vKviQE3nPRIf",
        "colab_type": "code",
        "colab": {}
      },
      "source": [
        ""
      ],
      "execution_count": null,
      "outputs": []
    }
  ]
}